{
 "cells": [
  {
   "cell_type": "markdown",
   "metadata": {},
   "source": [
    "## Graph"
   ]
  },
  {
   "cell_type": "markdown",
   "metadata": {},
   "source": [
    "Python has no built-in data type or class for graphs, but we can represent it using python data type, such as dictionaries. \n",
    "\n",
    "The keys are nodes of the graph, and the values are the neighbors of the corresponding key."
   ]
  },
  {
   "cell_type": "code",
   "execution_count": 1,
   "metadata": {},
   "outputs": [],
   "source": [
    "graph = { \"a\" : {\"c\"},\n",
    "          \"b\" : {\"c\", \"e\"},\n",
    "          \"c\" : {\"a\", \"b\", \"d\", \"e\"},\n",
    "          \"d\" : {\"c\"},\n",
    "          \"e\" : {\"c\", \"b\"},\n",
    "          \"f\" : {}\n",
    "        }"
   ]
  },
  {
   "cell_type": "markdown",
   "metadata": {},
   "source": [
    "An edge can also be ideally implemented as a set with two elements, i.e. the end nodes. This is ideal for undirected graphs. For directed graphs we would prefer lists or tuples to implement edges.\n",
    "\n",
    "Function to generate the list of all edges is as follows."
   ]
  },
  {
   "cell_type": "code",
   "execution_count": 4,
   "metadata": {},
   "outputs": [
    {
     "name": "stdout",
     "output_type": "stream",
     "text": [
      "[{'c', 'a'}, {'c', 'b'}, {'b', 'e'}, {'c', 'e'}, {'c', 'b'}, {'c', 'a'}, {'c', 'd'}, {'c', 'd'}, {'c', 'e'}, {'b', 'e'}]\n"
     ]
    }
   ],
   "source": [
    "def generate_edges(graph):\n",
    "    edges = []\n",
    "    for node in graph:\n",
    "        for neighbor in graph[node]:\n",
    "            edges.append({node, neighbor})\n",
    "    return edges\n",
    "\n",
    "print(generate_edges(graph))"
   ]
  },
  {
   "cell_type": "markdown",
   "metadata": {},
   "source": [
    "As we can see, there is no edge containing the node \"f\", because \"f\" is an isolated node of our graph. The following Python function calculates the isolated nodes of a given graph:"
   ]
  },
  {
   "cell_type": "code",
   "execution_count": 6,
   "metadata": {},
   "outputs": [
    {
     "name": "stdout",
     "output_type": "stream",
     "text": [
      "{'f'}\n"
     ]
    }
   ],
   "source": [
    "def find_isolated_nodes(graph):\n",
    "    \"\"\" returns set of isolated nodes. \"\"\"\n",
    "    isolated = set()\n",
    "    for node in graph:\n",
    "        if not graph[node]:\n",
    "            isolated.add(node)\n",
    "    return isolated\n",
    "\n",
    "print(find_isolated_nodes(graph))"
   ]
  },
  {
   "cell_type": "markdown",
   "metadata": {},
   "source": [
    "## Graphs as Python Class"
   ]
  },
  {
   "cell_type": "markdown",
   "metadata": {},
   "source": [
    "This is a Python graph class implementation.\n",
    "\n",
    "In the following class, the *init-method* uses a dictionary \"self._graph_dict\" for storing the vertices and their corresponding adjacent vertices."
   ]
  },
  {
   "cell_type": "code",
   "execution_count": null,
   "metadata": {},
   "outputs": [],
   "source": [
    "\"\"\"A Python Class\n",
    "A simple Python graph class, demonstrating the essential facts and functionalities of graphs.\n",
    "\"\"\"\n",
    "\n",
    "class Graph(object):\n",
    "    \n",
    "    def __init__(self, graph_dict=None):\n",
    "        \"\"\" initializes a graph object.\n",
    "            If no dictionary or None is given, \n",
    "            an empty dictionary will be used\n",
    "        \"\"\"\n",
    "        if graph_dict == None:\n",
    "            graph_dict = {}\n",
    "        self._graph_dict = graph_dict\n",
    "    \n",
    "    def edges(self, vertex):\n",
    "        \"\"\" returns a list of incident edges to vertex \"\"\"\n",
    "        return self._graph_dict[vertex]\n",
    "    \n",
    "    def all_vertices(self):\n",
    "        \"\"\" returns the vertices of a graph as a set \"\"\"\n",
    "        return set(self._graph_dict.keys())\n",
    "    \n",
    "    def all_edges(self):\n",
    "        \"\"\" returns the edges of a graph \"\"\"\n",
    "        return self.__generate_edges()\n",
    "    \n",
    "    def add_vertex(self, vertex):\n",
    "        \"\"\" If the vertex \"vertex\" is not in\n",
    "            self._graph_dict, a key \"vertex\" with an empty\n",
    "            list as a value is added to the dictionary.\n",
    "            Otherwise, nothing has to be done.\n",
    "        \"\"\"\n",
    "        if vertex not in self._graph_dict:\n",
    "            self._graph_dict[vertex] = []\n",
    "            \n",
    "    def add_edge(self, edge):\n",
    "        \"\"\" assumes that edge is of type set, tuple, or list;\n",
    "            between two vertices can be multiple edges.\n",
    "        \"\"\"\n",
    "        edge = set(edge)\n",
    "        vertex1, vertex2 = tuple(edge)\n",
    "        for x, y in [(vertex1, vertex2), (vertex2, vertex1)]:\n",
    "            if x in self._graph_dict:\n",
    "                self._graph_dict[x].add(y)\n",
    "            else:\n",
    "                self._graph_dict[x] = [y]"
   ]
  },
  {
   "cell_type": "code",
   "execution_count": null,
   "metadata": {},
   "outputs": [],
   "source": []
  }
 ],
 "metadata": {
  "kernelspec": {
   "display_name": "Python 3",
   "language": "python",
   "name": "python3"
  },
  "language_info": {
   "codemirror_mode": {
    "name": "ipython",
    "version": 3
   },
   "file_extension": ".py",
   "mimetype": "text/x-python",
   "name": "python",
   "nbconvert_exporter": "python",
   "pygments_lexer": "ipython3",
   "version": "3.6.9"
  }
 },
 "nbformat": 4,
 "nbformat_minor": 4
}
